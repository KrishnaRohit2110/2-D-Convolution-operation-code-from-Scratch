{
 "cells": [
  {
   "cell_type": "markdown",
   "metadata": {},
   "source": [
    "# 2-D Convolution"
   ]
  },
  {
   "cell_type": "markdown",
   "metadata": {},
   "source": [
    "# Question 1\n",
    "### Build your own “2-D Convolution” function file to perform the convolution operation, given the input matrix of size m x m and one filter of size f x f, such that the ouput convolution length is given by m-f+1."
   ]
  },
  {
   "cell_type": "markdown",
   "metadata": {},
   "source": [
    "<img src = \"2dconv.png\">"
   ]
  },
  {
   "cell_type": "markdown",
   "metadata": {},
   "source": [
    "#### In the above example (a), the size of the input is 6X6 and size of filter is 3X3. So the output size is 6-3+1 => 4X4"
   ]
  },
  {
   "cell_type": "code",
   "execution_count": 129,
   "metadata": {},
   "outputs": [],
   "source": [
    "def conv2d(inp, filt, b):\n",
    "    t = 0\n",
    "    temp = 0\n",
    "    while(t < len(inp)):\n",
    "        temp = temp + np.dot(inp[t].T, filt[t])\n",
    "        t = t + 1\n",
    "    \n",
    "    return temp+len(filt)*len(filt)*b"
   ]
  },
  {
   "cell_type": "code",
   "execution_count": 130,
   "metadata": {},
   "outputs": [],
   "source": [
    "import numpy as np\n",
    "np.random.seed(52)"
   ]
  },
  {
   "cell_type": "markdown",
   "metadata": {},
   "source": [
    "## mXm - size of input\n",
    "## fXf - size of filter"
   ]
  },
  {
   "cell_type": "code",
   "execution_count": 131,
   "metadata": {},
   "outputs": [],
   "source": [
    "m = np.random.randint(5,15) # Input size\n",
    "f = (np.random.randint(1,2)*2+1) # Filter size"
   ]
  },
  {
   "cell_type": "code",
   "execution_count": 132,
   "metadata": {},
   "outputs": [
    {
     "data": {
      "text/plain": [
       "(10, 3)"
      ]
     },
     "execution_count": 132,
     "metadata": {},
     "output_type": "execute_result"
    }
   ],
   "source": [
    "m,f"
   ]
  },
  {
   "cell_type": "markdown",
   "metadata": {},
   "source": [
    "#### Since we got m = 10 and f = 3, the output size should be 8X8"
   ]
  },
  {
   "cell_type": "code",
   "execution_count": 133,
   "metadata": {},
   "outputs": [],
   "source": [
    "inp1 = np.random.randint(-5,5, size = (m,m))\n",
    "filt1 = np.random.randint(-5,5, size = (f,f))\n",
    "bias = np.random.randint(-5,5)"
   ]
  },
  {
   "cell_type": "code",
   "execution_count": 134,
   "metadata": {},
   "outputs": [
    {
     "data": {
      "text/plain": [
       "(array([[ 2,  1,  2, -5,  0, -2, -2, -4, -2, -4],\n",
       "        [ 0, -4, -5, -5,  1,  1,  2,  4, -1,  1],\n",
       "        [ 2,  2,  2, -1, -3,  0, -1, -5, -4, -3],\n",
       "        [ 0, -3,  1,  4,  1,  0, -5,  1,  3, -4],\n",
       "        [ 4,  2, -4,  4,  1,  4,  4, -4,  0,  3],\n",
       "        [-1,  4, -5,  1,  2, -2,  2, -5, -5,  4],\n",
       "        [ 0, -4,  4,  2,  1,  4,  2, -1,  2, -5],\n",
       "        [-4,  0, -4,  4, -1, -5,  4,  1, -2, -4],\n",
       "        [ 3,  2,  1, -1,  1,  0,  3, -4, -5, -5],\n",
       "        [ 2, -3, -5, -3, -3, -2, -1,  2, -5, -4]]),\n",
       " 10,\n",
       " array([[-5, -5, -2],\n",
       "        [-2, -1,  0],\n",
       "        [-4, -1, -4]]),\n",
       " 4)"
      ]
     },
     "execution_count": 134,
     "metadata": {},
     "output_type": "execute_result"
    }
   ],
   "source": [
    "inp1,len(inp1),filt1,bias"
   ]
  },
  {
   "cell_type": "markdown",
   "metadata": {},
   "source": [
    "#### Now, I'll do 2-D convolution and the function is defined above and I use same bias value for all the problems"
   ]
  },
  {
   "cell_type": "code",
   "execution_count": 135,
   "metadata": {},
   "outputs": [
    {
     "data": {
      "text/plain": [
       "(array([[  3.,  38.,  71.,  81.,  63.,  81.,  87., 103.],\n",
       "        [ 59.,  80.,  69.,  42.,  44.,  15.,  22.,  42.],\n",
       "        [ 13.,   3.,  39.,  14.,  27.,  52.,  71.,  86.],\n",
       "        [ 59.,  23.,  24.,   4.,  21.,  73.,  63.,  41.],\n",
       "        [  0.,  39.,  21., -26., -15.,  -8.,  22.,  87.],\n",
       "        [ 67.,  31.,  58.,  25.,  19.,  48.,  49.,  92.],\n",
       "        [ 38.,  31.,   1.,   9.,  -2.,  27.,  30.,  82.],\n",
       "        [ 71.,  72.,  72.,  55.,  74.,  37.,  35.,  75.]]),\n",
       " (8, 8))"
      ]
     },
     "execution_count": 135,
     "metadata": {},
     "output_type": "execute_result"
    }
   ],
   "source": [
    "conv1 = np.zeros([m-f+1,m-f+1])\n",
    "for i in range(0,m-f+1):\n",
    "    for j in range(0,m-f+1):\n",
    "        #print(inp1[i:i+3,j:j+3])\n",
    "        conv1[i,j] = conv2d(inp1[i:i+3,j:j+3], filt1, bias)\n",
    "conv1,conv1.shape"
   ]
  },
  {
   "cell_type": "markdown",
   "metadata": {},
   "source": [
    "#### So we can see the output of the 2-D convolution operation and we got the size 8X8"
   ]
  },
  {
   "cell_type": "markdown",
   "metadata": {},
   "source": [
    "# Question 2\n",
    "### Build your own “2-D Convolution” function file to perform the convolution operation given the input matrix of size m x m and one filter of size f x f,, such that the ouput convolution length is same as that of the length of the input sequence."
   ]
  },
  {
   "cell_type": "markdown",
   "metadata": {},
   "source": [
    "#### Since the output should be the same size as that of input, we have to padd 0's to the input and perform the convolution\n",
    "#### And here I'm taking the same input as that of the 1st question and padd the 0's and same filter"
   ]
  },
  {
   "cell_type": "markdown",
   "metadata": {},
   "source": [
    "    If mXm (10X10) is input size, and filter size is fXf (3X3) and ouput size should be nXn (m=n)\n",
    "    Then,\n",
    "           m-f+1+2x = n\n",
    "           2x = (n-m)+f-1\n",
    "           10-3+1+2x = 10\n",
    "        => x = 1\n",
    "    That means, I've to padd 0's as 1-layer around the input\n",
    "    So the resultant input size is,   m+2x  ,     where 2x = (n-m)+f-1\n",
    "                                    = 12X12"
   ]
  },
  {
   "cell_type": "code",
   "execution_count": 136,
   "metadata": {},
   "outputs": [],
   "source": [
    "n=m\n",
    "npad = int((m-n+f-1))\n",
    "#inp2 = np.random.randint(-5, 5 , size = ([14,14]))\n",
    "#m = len(inp2)\n",
    "inp2 = np.zeros([m+npad,m+npad])\n",
    "filt2 = filt1\n",
    "inp2[int(npad/2):m+int(npad/2),int(npad/2):m+int(npad/2)] = inp1"
   ]
  },
  {
   "cell_type": "code",
   "execution_count": 137,
   "metadata": {},
   "outputs": [
    {
     "data": {
      "text/plain": [
       "(array([[ 0.,  0.,  0.,  0.,  0.,  0.,  0.,  0.,  0.,  0.,  0.,  0.],\n",
       "        [ 0.,  2.,  1.,  2., -5.,  0., -2., -2., -4., -2., -4.,  0.],\n",
       "        [ 0.,  0., -4., -5., -5.,  1.,  1.,  2.,  4., -1.,  1.,  0.],\n",
       "        [ 0.,  2.,  2.,  2., -1., -3.,  0., -1., -5., -4., -3.,  0.],\n",
       "        [ 0.,  0., -3.,  1.,  4.,  1.,  0., -5.,  1.,  3., -4.,  0.],\n",
       "        [ 0.,  4.,  2., -4.,  4.,  1.,  4.,  4., -4.,  0.,  3.,  0.],\n",
       "        [ 0., -1.,  4., -5.,  1.,  2., -2.,  2., -5., -5.,  4.,  0.],\n",
       "        [ 0.,  0., -4.,  4.,  2.,  1.,  4.,  2., -1.,  2., -5.,  0.],\n",
       "        [ 0., -4.,  0., -4.,  4., -1., -5.,  4.,  1., -2., -4.,  0.],\n",
       "        [ 0.,  3.,  2.,  1., -1.,  1.,  0.,  3., -4., -5., -5.,  0.],\n",
       "        [ 0.,  2., -3., -5., -3., -3., -2., -1.,  2., -5., -4.,  0.],\n",
       "        [ 0.,  0.,  0.,  0.,  0.,  0.,  0.,  0.,  0.,  0.,  0.,  0.]]),\n",
       " array([[-5, -5, -2],\n",
       "        [-2, -1,  0],\n",
       "        [-4, -1, -4]]))"
      ]
     },
     "execution_count": 137,
     "metadata": {},
     "output_type": "execute_result"
    }
   ],
   "source": [
    "inp2,filt2"
   ]
  },
  {
   "cell_type": "markdown",
   "metadata": {},
   "source": [
    "#### Now the input size is 12X12 , filter size os 3X3. So the output size should be 10X10 (Actual input size)"
   ]
  },
  {
   "cell_type": "code",
   "execution_count": 138,
   "metadata": {},
   "outputs": [
    {
     "data": {
      "text/plain": [
       "(array([[ 50.,  55.,  73.,  58.,  61.,  25.,  20.,  36.,  27.,  47.],\n",
       "        [ 14.,   3.,  38.,  71.,  81.,  63.,  81.,  87., 103.,  86.],\n",
       "        [ 54.,  59.,  80.,  69.,  42.,  44.,  15.,  22.,  42.,  39.],\n",
       "        [ 10.,  13.,   3.,  39.,  14.,  27.,  52.,  71.,  86.,  66.],\n",
       "        [ 23.,  59.,  23.,  24.,   4.,  21.,  73.,  63.,  41.,  54.],\n",
       "        [ 29.,   0.,  39.,  21., -26., -15.,  -8.,  22.,  87.,  24.],\n",
       "        [ 37.,  67.,  31.,  58.,  25.,  19.,  48.,  49.,  92.,  54.],\n",
       "        [ 37.,  38.,  31.,   1.,   9.,  -2.,  27.,  30.,  82.,  84.],\n",
       "        [ 63.,  71.,  72.,  72.,  55.,  74.,  37.,  35.,  75., 105.],\n",
       "        [ 15.,   8.,  34.,  47.,  45.,  33.,  34.,  51.,  92., 100.]]),\n",
       " (10, 10))"
      ]
     },
     "execution_count": 138,
     "metadata": {},
     "output_type": "execute_result"
    }
   ],
   "source": [
    "conv2 = np.zeros([m+npad-f+1,m+npad-f+1])\n",
    "for i in range(0,len(inp2)-f+1):\n",
    "    for j in range(0,len(inp2[0])-f+1):\n",
    "        #print(inp1[i:i+3,j:j+3])\n",
    "        conv2[i,j] = conv2d(inp2[i:i+f,j:j+f], filt2, bias)\n",
    "conv2,conv2.shape"
   ]
  },
  {
   "cell_type": "markdown",
   "metadata": {},
   "source": [
    "#### Here we can see that the output size is 10X10. We can given any size input and get thge correspoinf output"
   ]
  },
  {
   "cell_type": "markdown",
   "metadata": {},
   "source": [
    "# Question 3\n",
    "### Use any one of your built “Conv2” function file to perform the convolution operation given the input matrix and ‘N1’ number of filters."
   ]
  },
  {
   "cell_type": "markdown",
   "metadata": {},
   "source": [
    "#### Here, I can take an input matrix with size mXm and no. of filters as nf with each filer size as fXf\n",
    "#### So the total output size should be nf X (m-f+1) X (m-f+1)\n",
    "#### So for this question, I'm taking another random input"
   ]
  },
  {
   "cell_type": "code",
   "execution_count": 139,
   "metadata": {},
   "outputs": [],
   "source": [
    "np.random.seed(51)\n",
    "m = np.random.randint(5,15) # Size of input\n",
    "nf = np.random.randint(2,5) # No. of filters\n",
    "f = np.random.randint(2,4)*2+1 # Filter size\n",
    "filt3 = np.random.randint(-5,5, size = (nf,f,f))\n",
    "inp3 = np.random.randint(-5,5, size = (m,m))"
   ]
  },
  {
   "cell_type": "code",
   "execution_count": 140,
   "metadata": {},
   "outputs": [
    {
     "data": {
      "text/plain": [
       "(array([[-5, -1,  0, -1,  4, -3,  3,  0,  1, -3,  2,  2, -1,  0],\n",
       "        [-3,  4, -4, -1, -2,  1,  4, -3,  1, -5,  3, -5, -5,  1],\n",
       "        [-4,  0, -4, -4,  4,  1, -1,  0, -3,  1,  0, -5, -2,  0],\n",
       "        [-3,  3,  1, -3, -2, -3, -3,  3, -1, -2, -5, -2,  4, -2],\n",
       "        [ 1,  1,  3,  1, -5, -4, -3, -5,  3,  1,  3,  1,  3, -3],\n",
       "        [-5,  0,  0,  3, -2, -5,  1, -1, -2,  0,  3,  3,  0,  3],\n",
       "        [-3,  1, -4, -5, -4, -5, -1,  3, -2,  1, -4,  0,  0, -2],\n",
       "        [-4, -5,  0, -1, -5, -1,  2,  3, -2, -3,  2,  4,  0, -2],\n",
       "        [ 3,  4,  1, -1,  0,  0,  3,  4, -4, -4,  3, -2, -5, -2],\n",
       "        [-3,  2, -5, -4,  3, -5, -4, -4,  1, -3,  2,  3, -1,  2],\n",
       "        [ 0,  2,  1, -5, -1,  0, -5,  0,  4,  2, -3,  0,  0, -3],\n",
       "        [-2, -1,  2,  3,  4, -1, -5, -3, -3, -4, -2, -2, -5,  1],\n",
       "        [-4, -5, -4,  3,  4,  0,  3,  4, -5, -3, -4,  3,  3, -4],\n",
       "        [ 3, -5,  4, -3,  0,  0, -1,  3,  4, -2,  3,  1, -5,  3]]),\n",
       " (14, 14),\n",
       " array([[[ 4,  0, -5,  0, -1],\n",
       "         [ 4,  0,  0, -1, -1],\n",
       "         [-2,  1, -1,  1,  4],\n",
       "         [-4, -1,  2, -5,  3],\n",
       "         [ 3,  1, -1,  0,  4]],\n",
       " \n",
       "        [[-3, -2,  2,  2, -2],\n",
       "         [ 3, -3,  0,  2, -4],\n",
       "         [-2,  0,  3,  4,  1],\n",
       "         [ 0,  2,  0, -4, -1],\n",
       "         [-4, -4, -2,  1,  2]],\n",
       " \n",
       "        [[-3, -2, -1,  4, -4],\n",
       "         [ 3, -2,  2, -2, -2],\n",
       "         [-1, -1, -1, -5, -5],\n",
       "         [-2,  2,  4,  0, -1],\n",
       "         [-1,  1,  2,  4,  3]]]),\n",
       " (3, 5, 5),\n",
       " 3,\n",
       " 5)"
      ]
     },
     "execution_count": 140,
     "metadata": {},
     "output_type": "execute_result"
    }
   ],
   "source": [
    "inp3,inp3.shape,filt3,filt3.shape,nf,f"
   ]
  },
  {
   "cell_type": "markdown",
   "metadata": {},
   "source": [
    "##### Here, we can see that the input size is 14X14 (mXm) and filter size 5X5 with 3 filters\n",
    "#### So\n",
    "    We shout get the output as nf X (m-f+1) X (m-f+1)\n",
    "                                i.e 3 X 10 X 10"
   ]
  },
  {
   "cell_type": "code",
   "execution_count": 141,
   "metadata": {},
   "outputs": [],
   "source": [
    "conv3 = np.zeros([nf,m-f+1,m-f+1])\n",
    "for i in range(0,nf):\n",
    "    for j in range(0,m-f+1):\n",
    "        for k in range(0,m-f+1):\n",
    "            conv3[i,j,k] = conv2d(inp3[j:j+f,k:k+f], filt3[i], bias)"
   ]
  },
  {
   "cell_type": "code",
   "execution_count": 142,
   "metadata": {},
   "outputs": [
    {
     "data": {
      "text/plain": [
       "(array([[[ 92., 100.,  57., 130.,  59., 111., 126.,  74., 140.,  39.],\n",
       "         [ 49.,  84.,  53.,  96., 125., 105., 134., 119.,  96.,  90.],\n",
       "         [ 49., 100.,  63.,  11., 120., 123., 105., 144.,  87., 113.],\n",
       "         [ 77.,  95., 187., 139.,  51.,  89.,  92., 153., 117.,  95.],\n",
       "         [ 86., 139., 158., 182.,  71.,  90.,  98.,  41.,  48.,  82.],\n",
       "         [ 62.,  71.,  78., 109.,  60.,  39., 112.,  85.,  87., 110.],\n",
       "         [124.,  85., 135., 109.,  81.,  49., 141., 110.,  81., 114.],\n",
       "         [152.,  58.,  75., 131.,  75.,  61., 123., 163.,  10.,  51.],\n",
       "         [101.,  95.,  50., 115.,  97.,  66., 143., 149.,  78.,  74.],\n",
       "         [146., 145.,  87.,  64.,  76.,  87.,  41., 127.,  89.,  92.]],\n",
       " \n",
       "        [[ 73., 118.,  91., 141.,  91., 154., 131., 135., 110.,  -1.],\n",
       "         [ 76.,  90.,  97.,  97., 161.,  97.,  62., 122.,  82.,  83.],\n",
       "         [ 71., 118., 172.,  96., 120., 131., 103., 125.,  94., 129.],\n",
       "         [196., 109., 112., 136.,  89., 108.,  89., 102., 128., 134.],\n",
       "         [ 50.,  72.,  35., 112., 109.,  85., 109.,  84.,  75.,  85.],\n",
       "         [146., 140.,  70.,  68., 165., 152., 127., 119., 145., 162.],\n",
       "         [111.,  45., 124., 172., 180., 127.,  65.,  50.,  76.,  86.],\n",
       "         [147., 103.,  31.,  50., 107.,  96.,  77., 179., 179., 129.],\n",
       "         [ 67., 131., 103.,  92., 110., 106.,  57.,  85., 191.,  96.],\n",
       "         [ 66., 125., 161.,  51.,  28., 142., 108.,  52.,  64.,  94.]],\n",
       " \n",
       "        [[ 99.,  94.,   4.,  61.,  73., 146., 123., 122., 180.,  85.],\n",
       "         [141.,  94., 103.,  89.,  72., 120.,  94., 236., 130., 115.],\n",
       "         [ 72., 146., 142., 103., 114.,  97.,  69., 103.,  66.,  89.],\n",
       "         [ 89., 100., 109., 107., 153., 118.,  97.,  32.,  86., 119.],\n",
       "         [152., 161., 114., 136., 139., 128.,  96.,  87.,  66., 126.],\n",
       "         [167., 136.,  43.,  36.,  99., 136.,  63.,  88., 108., 122.],\n",
       "         [ 82.,  65.,  80.,  55.,  99., 150., 133.,  63., 137., 156.],\n",
       "         [192., 125., 124., 117., 104.,  95.,  80.,  75.,  88.,  68.],\n",
       "         [105., 148., 181., 144., 108.,  20.,  26.,  63., 145., 103.],\n",
       "         [ 24., 134., 175., 148., 127., 225., 134., 120., 137., 146.]]]),\n",
       " (3, 10, 10))"
      ]
     },
     "execution_count": 142,
     "metadata": {},
     "output_type": "execute_result"
    }
   ],
   "source": [
    "conv3,conv3.shape"
   ]
  },
  {
   "cell_type": "markdown",
   "metadata": {},
   "source": [
    "# Question 4\n",
    "### Use any one of your built “Conv2” function file to perform the convolution operation given the input matrix and ‘N1’ number of filters, followed by the convolution operation with ‘N2’ number of filters, where N2>N1."
   ]
  },
  {
   "cell_type": "markdown",
   "metadata": {},
   "source": [
    "#### For this one, I'll take the output of the previous question and give it as the input to the next layers eith filters N2 where N2 > 3(nf)\n",
    "#### And let's the size of each filter is less than f(5)"
   ]
  },
  {
   "cell_type": "code",
   "execution_count": 150,
   "metadata": {},
   "outputs": [],
   "source": [
    "np.random.seed(51)\n",
    "f1 = np.random.randint(3,5) # Filter size\n",
    "nf1 = np.random.randint(nf+1, nf+5) # No. of filters\n",
    "inp4 = conv3 # Input to the next level\n",
    "filt4 = np.random.randint(-5,5, size = (nf1, nf, f1, f1)) # Filter"
   ]
  },
  {
   "cell_type": "code",
   "execution_count": 151,
   "metadata": {},
   "outputs": [
    {
     "data": {
      "text/plain": [
       "(array([[[ 92., 100.,  57., 130.,  59., 111., 126.,  74., 140.,  39.],\n",
       "         [ 49.,  84.,  53.,  96., 125., 105., 134., 119.,  96.,  90.],\n",
       "         [ 49., 100.,  63.,  11., 120., 123., 105., 144.,  87., 113.],\n",
       "         [ 77.,  95., 187., 139.,  51.,  89.,  92., 153., 117.,  95.],\n",
       "         [ 86., 139., 158., 182.,  71.,  90.,  98.,  41.,  48.,  82.],\n",
       "         [ 62.,  71.,  78., 109.,  60.,  39., 112.,  85.,  87., 110.],\n",
       "         [124.,  85., 135., 109.,  81.,  49., 141., 110.,  81., 114.],\n",
       "         [152.,  58.,  75., 131.,  75.,  61., 123., 163.,  10.,  51.],\n",
       "         [101.,  95.,  50., 115.,  97.,  66., 143., 149.,  78.,  74.],\n",
       "         [146., 145.,  87.,  64.,  76.,  87.,  41., 127.,  89.,  92.]],\n",
       " \n",
       "        [[ 73., 118.,  91., 141.,  91., 154., 131., 135., 110.,  -1.],\n",
       "         [ 76.,  90.,  97.,  97., 161.,  97.,  62., 122.,  82.,  83.],\n",
       "         [ 71., 118., 172.,  96., 120., 131., 103., 125.,  94., 129.],\n",
       "         [196., 109., 112., 136.,  89., 108.,  89., 102., 128., 134.],\n",
       "         [ 50.,  72.,  35., 112., 109.,  85., 109.,  84.,  75.,  85.],\n",
       "         [146., 140.,  70.,  68., 165., 152., 127., 119., 145., 162.],\n",
       "         [111.,  45., 124., 172., 180., 127.,  65.,  50.,  76.,  86.],\n",
       "         [147., 103.,  31.,  50., 107.,  96.,  77., 179., 179., 129.],\n",
       "         [ 67., 131., 103.,  92., 110., 106.,  57.,  85., 191.,  96.],\n",
       "         [ 66., 125., 161.,  51.,  28., 142., 108.,  52.,  64.,  94.]],\n",
       " \n",
       "        [[ 99.,  94.,   4.,  61.,  73., 146., 123., 122., 180.,  85.],\n",
       "         [141.,  94., 103.,  89.,  72., 120.,  94., 236., 130., 115.],\n",
       "         [ 72., 146., 142., 103., 114.,  97.,  69., 103.,  66.,  89.],\n",
       "         [ 89., 100., 109., 107., 153., 118.,  97.,  32.,  86., 119.],\n",
       "         [152., 161., 114., 136., 139., 128.,  96.,  87.,  66., 126.],\n",
       "         [167., 136.,  43.,  36.,  99., 136.,  63.,  88., 108., 122.],\n",
       "         [ 82.,  65.,  80.,  55.,  99., 150., 133.,  63., 137., 156.],\n",
       "         [192., 125., 124., 117., 104.,  95.,  80.,  75.,  88.,  68.],\n",
       "         [105., 148., 181., 144., 108.,  20.,  26.,  63., 145., 103.],\n",
       "         [ 24., 134., 175., 148., 127., 225., 134., 120., 137., 146.]]]),\n",
       " (3, 10, 10),\n",
       " array([[[[ 0, -5,  4],\n",
       "          [ 0, -5,  0],\n",
       "          [-1,  4,  0]],\n",
       " \n",
       "         [[ 0, -1, -1],\n",
       "          [-2,  1, -1],\n",
       "          [ 1,  4, -4]],\n",
       " \n",
       "         [[-1,  2, -5],\n",
       "          [ 3,  3,  1],\n",
       "          [-1,  0,  4]]],\n",
       " \n",
       " \n",
       "        [[[-3, -2,  2],\n",
       "          [ 2, -2,  3],\n",
       "          [-3,  0,  2]],\n",
       " \n",
       "         [[-4, -2,  0],\n",
       "          [ 3,  4,  1],\n",
       "          [ 0,  2,  0]],\n",
       " \n",
       "         [[-4, -1, -4],\n",
       "          [-4, -2,  1],\n",
       "          [ 2, -3, -2]]],\n",
       " \n",
       " \n",
       "        [[[-1,  4, -4],\n",
       "          [ 3, -2,  2],\n",
       "          [-2, -2, -1]],\n",
       " \n",
       "         [[-1, -1, -5],\n",
       "          [-5, -2,  2],\n",
       "          [ 4,  0, -1]],\n",
       " \n",
       "         [[-1,  1,  2],\n",
       "          [ 4,  3, -5],\n",
       "          [-1,  0, -1]]],\n",
       " \n",
       " \n",
       "        [[[ 4, -3,  3],\n",
       "          [ 0,  1, -3],\n",
       "          [ 2,  2, -1]],\n",
       " \n",
       "         [[ 0, -3,  4],\n",
       "          [-4, -1, -2],\n",
       "          [ 1,  4, -3]],\n",
       " \n",
       "         [[ 1, -5,  3],\n",
       "          [-5, -5,  1],\n",
       "          [-4,  0, -4]]],\n",
       " \n",
       " \n",
       "        [[[-4,  4,  1],\n",
       "          [-1,  0, -3],\n",
       "          [ 1,  0, -5]],\n",
       " \n",
       "         [[-2,  0, -3],\n",
       "          [ 3,  1, -3],\n",
       "          [-2, -3, -3]],\n",
       " \n",
       "         [[ 3, -1, -2],\n",
       "          [-5, -2,  4],\n",
       "          [-2,  1,  1]]]]),\n",
       " (5, 3, 3, 3),\n",
       " 5,\n",
       " 3)"
      ]
     },
     "execution_count": 151,
     "metadata": {},
     "output_type": "execute_result"
    }
   ],
   "source": [
    "[no,m,n]=conv3.shape\n",
    "inp4,inp4.shape,filt4,filt4.shape,nf1,f1"
   ]
  },
  {
   "cell_type": "code",
   "execution_count": 173,
   "metadata": {},
   "outputs": [
    {
     "data": {
      "text/plain": [
       "(5, 8, 8)"
      ]
     },
     "execution_count": 173,
     "metadata": {},
     "output_type": "execute_result"
    }
   ],
   "source": [
    "conv4 = np.zeros([nf1,m-f1+1,n-f1+1])\n",
    "conv4.shape"
   ]
  },
  {
   "cell_type": "code",
   "execution_count": 174,
   "metadata": {},
   "outputs": [],
   "source": [
    "temp = np.zeros([m-f1+1,n-f1+1])\n",
    "summ = np.zeros([m-f1+1,n-f1+1])\n",
    "\n",
    "t = 0\n",
    "for i in filt4:\n",
    "    for j in range(0,len(inp4)):\n",
    "        for k in range(0,m-f1+1):\n",
    "            for l in range(0,n-f1+1):\n",
    "                temp[k,l] = conv2d(inp4[j,k:k+f1,l:l+f1], i[j], bias)\n",
    "        summ = summ + temp\n",
    "    conv4[t] = summ\n",
    "    summ = np.zeros([m-f1+1,n-f1+1])\n",
    "    t = t + 1"
   ]
  },
  {
   "cell_type": "code",
   "execution_count": 176,
   "metadata": {},
   "outputs": [
    {
     "data": {
      "text/plain": [
       "(array([[[  627.,   795.,  -504.,    21.,     0.,  -393.,   608.,   198.],\n",
       "         [  179.,  1186.,  1183.,  -465.,   238., -1245.,  -140.,   -15.],\n",
       "         [ -142.,  -611.,   799.,   427.,   267.,   152.,  -793.,  -224.],\n",
       "         [  674.,  -589.,  -963.,   778.,   151.,   918.,   -61.,    67.],\n",
       "         [  162.,  -346., -1013.,   683.,   737.,  -149.,   215.,   256.],\n",
       "         [  359.,    75.,  -649.,  -429.,   845.,  -516.,   237.,    18.],\n",
       "         [ 1342.,   365.,  -185.,  -404.,   417.,   -48.,  -712.,   604.],\n",
       "         [  813.,  1570.,   225.,    88.,   562.,  -477., -1007.,   602.]],\n",
       " \n",
       "        [[-1526.,  -986.,  -619.,  -793.,  -789., -1968., -2104., -2268.],\n",
       "         [-1128., -1091., -1136., -1873., -1111., -1194., -1206., -2014.],\n",
       "         [ -626., -1892., -1715., -1307., -1767., -1357., -1191.,  -751.],\n",
       "         [-1718., -1414., -2464., -1769., -1401.,  -865., -1338., -1371.],\n",
       "         [-1497., -1443., -1582., -1592.,  -985., -1202.,  -872.,  -919.],\n",
       "         [-1501., -1015.,  -326.,  -677.,  -661., -1753., -1719., -1524.],\n",
       "         [-1545., -1360., -2135., -1931., -1039.,  -999., -1712.,  -520.],\n",
       "         [-2760., -1536., -1793., -1892., -1139.,  -421., -1348., -1525.]],\n",
       " \n",
       "        [[ -868., -1248.,    74., -1653., -1253., -1433.,  -741.,   526.],\n",
       "         [ -524., -1294., -1634.,  -836.,  -750.,  -679.,  -809.,  -900.],\n",
       "         [-1641., -1365., -2320.,  -930.,  -756.,  -750.,  -563., -1377.],\n",
       "         [ -520.,     5.,  -337.,  -798.,  -185.,  -965.,  -793., -1208.],\n",
       "         [ -318., -1166.,  -665.,  -930.,  -591.,  -891., -1399., -1217.],\n",
       "         [ -619.,  -636., -1509., -2092., -1677.,  -986., -1235.,  -783.],\n",
       "         [-1278.,  -946.,  -953.,  -510.,  -799.,  -229., -1221.,  -954.],\n",
       "         [-1320.,  -533.,    29.,  -490., -1117., -1679.,  -929., -1753.]],\n",
       " \n",
       "        [[-2331.,  -670., -2792.,  -835., -1881., -1631., -1133., -3686.],\n",
       "         [-1813., -1881., -1908., -2018., -2147., -1021., -2041., -1224.],\n",
       "         [-2663., -2923., -1102., -2445., -2292., -1422., -1559., -1034.],\n",
       "         [-1555., -2029., -1446., -1651., -2145., -1534., -1062., -1046.],\n",
       "         [-2823.,  -920.,  -724.,  -584., -2407., -2153., -1934., -1934.],\n",
       "         [-2312., -1690., -1514., -1572., -2563., -2459.,  -560.,  -678.],\n",
       "         [-1789., -2199., -1495., -1275., -1556., -2079.,  -785., -1157.],\n",
       "         [-1441., -2248., -2749., -3058., -1641., -1078., -1504., -1801.]],\n",
       " \n",
       "        [[-1823., -2095., -2715., -2894., -2072., -2284., -2609., -2401.],\n",
       "         [-2408., -2433., -1752., -2033., -2448., -2640., -2378., -1902.],\n",
       "         [-2137., -2662., -1754., -1598., -2322., -2475., -1704., -1840.],\n",
       "         [-2886., -2654., -2389., -2537., -2459., -2190., -1751., -2623.],\n",
       "         [-1822., -2184., -2140., -2121., -2286., -1853., -1651., -1708.],\n",
       "         [-1798., -1935., -1796., -1636., -2141., -2603., -2479., -2403.],\n",
       "         [-1992., -2148., -2989., -2879., -2698., -1952., -1742., -1908.],\n",
       "         [-1720., -1784., -1887., -2414., -1780., -1956., -1773., -2471.]]]),\n",
       " (5, 8, 8))"
      ]
     },
     "execution_count": 176,
     "metadata": {},
     "output_type": "execute_result"
    }
   ],
   "source": [
    "conv4,conv4.shape"
   ]
  },
  {
   "cell_type": "markdown",
   "metadata": {},
   "source": [
    "# Question 5\n",
    "### Compute the number of learnable parameters for Q.No.4. Validate your computation with the number of learnable parameters given by Keras-Tensorflow framework."
   ]
  },
  {
   "cell_type": "markdown",
   "metadata": {},
   "source": [
    "    No. of Filters and size of each filter the 1st layer = 3*5*5 = 75\n",
    "    And no. of bias values to be added is the no. of filters = 3\n",
    "    Total no. of parameters w.r.t 1st layer = 78\n",
    "    \n",
    "    No. of layers of filters in 2nd layer = 3 and No. of filter = 5\n",
    "        Total = 15\n",
    "    Each filter size = 3*3 = 9\n",
    "    Parametrs = 15*9 = 135\n",
    "    And no. of bias values to be added is the no. of filters = 5\n",
    "    Total no. of learnable parameters in the 2nd layer = 140\n",
    "    \n",
    "    So, Total no. of learnable parameters with respect to this problem = 140 + 78\n",
    "                                                                       = 218"
   ]
  },
  {
   "cell_type": "code",
   "execution_count": 180,
   "metadata": {},
   "outputs": [
    {
     "name": "stdout",
     "output_type": "stream",
     "text": [
      "Total learnable parameters =  218\n"
     ]
    }
   ],
   "source": [
    "print(\"Total learnable parameters = \", (nf*f*f + nf) + nf1*nf*f1*f1 + nf1)"
   ]
  },
  {
   "cell_type": "code",
   "execution_count": 261,
   "metadata": {},
   "outputs": [],
   "source": [
    "import tensorflow as tf\n",
    "from tensorflow.keras.models import Sequential\n",
    "from tensorflow.keras.layers import Conv2D, Flatten, MaxPool1D,Dropout"
   ]
  },
  {
   "cell_type": "code",
   "execution_count": 262,
   "metadata": {},
   "outputs": [],
   "source": [
    "model = Sequential()\n",
    "model.add(Conv2D(nf, (f,f), input_shape = (inp3.shape[0],inp3.shape[1],1)))"
   ]
  },
  {
   "cell_type": "code",
   "execution_count": 263,
   "metadata": {},
   "outputs": [],
   "source": [
    "model.add(Conv2D(nf1, (f1,f1)))"
   ]
  },
  {
   "cell_type": "code",
   "execution_count": 264,
   "metadata": {},
   "outputs": [],
   "source": [
    "loss_fn = tf.keras.losses.SparseCategoricalCrossentropy(from_logits = True)"
   ]
  },
  {
   "cell_type": "code",
   "execution_count": 265,
   "metadata": {},
   "outputs": [],
   "source": [
    "model.compile(optimizer = 'adam', loss = loss_fn, metrics = ['accuracy'])"
   ]
  },
  {
   "cell_type": "code",
   "execution_count": 266,
   "metadata": {},
   "outputs": [
    {
     "name": "stdout",
     "output_type": "stream",
     "text": [
      "Model: \"sequential_16\"\n",
      "_________________________________________________________________\n",
      "Layer (type)                 Output Shape              Param #   \n",
      "=================================================================\n",
      "conv2d_28 (Conv2D)           (None, 10, 10, 3)         78        \n",
      "_________________________________________________________________\n",
      "conv2d_29 (Conv2D)           (None, 8, 8, 5)           140       \n",
      "=================================================================\n",
      "Total params: 218\n",
      "Trainable params: 218\n",
      "Non-trainable params: 0\n",
      "_________________________________________________________________\n"
     ]
    }
   ],
   "source": [
    "model.summary()"
   ]
  },
  {
   "cell_type": "code",
   "execution_count": null,
   "metadata": {},
   "outputs": [],
   "source": []
  }
 ],
 "metadata": {
  "kernelspec": {
   "display_name": "Python 3",
   "language": "python",
   "name": "python3"
  },
  "language_info": {
   "codemirror_mode": {
    "name": "ipython",
    "version": 3
   },
   "file_extension": ".py",
   "mimetype": "text/x-python",
   "name": "python",
   "nbconvert_exporter": "python",
   "pygments_lexer": "ipython3",
   "version": "3.8.8"
  }
 },
 "nbformat": 4,
 "nbformat_minor": 4
}
